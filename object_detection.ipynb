{
  "cells": [
    {
      "cell_type": "markdown",
      "metadata": {
        "id": "view-in-github",
        "colab_type": "text"
      },
      "source": [
        "<a href=\"https://colab.research.google.com/github/shreya3134/deep_learning/blob/main/object_detection.ipynb\" target=\"_parent\"><img src=\"https://colab.research.google.com/assets/colab-badge.svg\" alt=\"Open In Colab\"/></a>"
      ]
    },
    {
      "cell_type": "code",
      "execution_count": null,
      "metadata": {
        "colab": {
          "base_uri": "https://localhost:8080/"
        },
        "id": "ee8gnBWqVEcU",
        "outputId": "bbadc883-1b51-4de3-b11c-3088f0a60858"
      },
      "outputs": [
        {
          "output_type": "stream",
          "name": "stdout",
          "text": [
            "Requirement already satisfied: opencv.python in /usr/local/lib/python3.10/dist-packages (4.10.0.84)\n",
            "Requirement already satisfied: numpy>=1.21.2 in /usr/local/lib/python3.10/dist-packages (from opencv.python) (1.26.4)\n"
          ]
        }
      ],
      "source": [
        "!pip install opencv.python"
      ]
    },
    {
      "cell_type": "code",
      "execution_count": null,
      "metadata": {
        "id": "uhUzeCOoVMYy"
      },
      "outputs": [],
      "source": [
        "import os\n",
        "import cv2"
      ]
    },
    {
      "cell_type": "code",
      "source": [
        "\n",
        "\n",
        "#Update path to haarcascade_frontalface_alt2.xml\n",
        "cascPathface= os.path.dirname(cv2.__file__) + \"/content/1.png\"\n",
        "face_cascade=cv2.CascadeClassifier(cascPathface)\n",
        "\n",
        "#Read input image\n",
        "img=cv2.imread('1.png')\n",
        "#convert into grayscale\n",
        "gray = cv2.cvtColor(img, cv2.COLOR_BGR2GRAY)\n",
        "\n",
        "#detects faces of different sizes in the input images\n",
        "faces= face_cascade.detectMultiscale(gray,1.1,4)\n",
        "\n",
        "#draw rectangle around the faces\n",
        "for(x,y,w,h) in faces:\n",
        "  cv2.rectangle(img,(x,y),(x+w,y+h),(255,0,0),5)\n",
        "\n",
        "#export the result\n",
        "cv2.imwrite(\"face_detection.png\",img)\n",
        "print(\"Successfully_Saved\")\n",
        "\n",
        "#display the output\n",
        "cv2.imshow('img',img)\n",
        "cv2.waitKey()\n",
        "#De-Allocate any associated memory usage\n",
        "cv2.destroyAllWindows()"
      ],
      "metadata": {
        "id": "CrWiKw8G5S21"
      },
      "execution_count": null,
      "outputs": []
    }
  ],
  "metadata": {
    "colab": {
      "provenance": [],
      "authorship_tag": "ABX9TyOQUJNtEZsRFd86Qq/2/ZE2",
      "include_colab_link": true
    },
    "kernelspec": {
      "display_name": "Python 3",
      "name": "python3"
    },
    "language_info": {
      "name": "python"
    }
  },
  "nbformat": 4,
  "nbformat_minor": 0
}